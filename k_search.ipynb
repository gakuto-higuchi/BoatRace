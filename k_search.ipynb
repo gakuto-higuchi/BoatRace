{
 "cells": [
  {
   "cell_type": "code",
   "execution_count": 5,
   "metadata": {},
   "outputs": [
    {
     "name": "stdout",
     "output_type": "stream",
     "text": [
      "作業を開始します。\n",
      "/Users/higuchirakuhi/BoatRace/results_csv/results.csvを作成しました。\n",
      "作業を終了しました。\n"
     ]
    }
   ],
   "source": [
    "TXT_FILE_DIR = \"/Users/higuchirakuhi/BoatRace/results_txt/\"\n",
    "\n",
    "CSV_FILE_DIR = \"/Users/higuchirakuhi/BoatRace/results_csv/\"\n",
    "\n",
    "CSV_FILE_NAME = \"results.csv\"\n",
    "\n",
    "CSV_FILE_HEADER = \"タイトル,日次,レース日,レース場,レース回,3連単_組番,三連単_払戻金,3連複_組番,\\\n",
    "3連複_払戻金,2連単_組番,2連単_払戻金,2連複_組番,2連複_払戻金\\n\"\n",
    "\n",
    "import re\n",
    "import os\n",
    "\n",
    "print(\"作業を開始します。\")\n",
    "os.makedirs(CSV_FILE_DIR, exist_ok=True)\n",
    "\n",
    "csv_file = open(CSV_FILE_DIR + CSV_FILE_NAME, \"w\", encoding=\"shift_jis\")\n",
    "csv_file.write(CSV_FILE_HEADER)\n",
    "csv_file.close()\n",
    "\n",
    "def get_data(text_file):\n",
    "    csv_file = open(CSV_FILE_DIR + CSV_FILE_NAME, \"a\", encoding=\"shift_jis\")\n",
    "    \n",
    "    for contents in text_file:\n",
    "        if re.search(r\"競走成績\",contents):\n",
    "            text_file.readline()\n",
    "            \n",
    "            line = text_file.readline()\n",
    "            title = line[:-1].strip()\n",
    "            \n",
    "            text_file.readline()\n",
    "            line = text_file.readline()\n",
    "            day = line[3:7].replace(\" \", \"\")\n",
    "            date = line[17:27].replace(\" \", \"\")\n",
    "            stadium = line[62:65].replace(\" \", \"\")\n",
    "            \n",
    "        if re.search(r\"払戻金\", contents):\n",
    "            \n",
    "            line = text_file.readline()\n",
    "            \n",
    "            while line != \"\\n\":\n",
    "                results = line[10:13].strip() + \",\"\\\n",
    "                    +line[15:20] + \",\" + line[21:28].strip() + \",\"\\\n",
    "                    +line[32:37] + \",\" + line[38:45].strip() + \",\"\\\n",
    "                    +line[49:52] + \",\" + line[53:60].strip() + \",\"\\\n",
    "                    +line[64:67] + \",\" + line[68:75].strip()\n",
    "                    \n",
    "                csv_file.write(title + \",\" + day + \",\" + date + \",\" + stadium + \",\" + results + \"\\n\")\n",
    "                \n",
    "                line = text_file.readline()\n",
    "                \n",
    "    csv_file.close()\n",
    "    \n",
    "text_file_list = os.listdir(TXT_FILE_DIR)\n",
    "\n",
    "for txt_file_name in text_file_list:\n",
    "    if re.search(\".TXT\", txt_file_name):\n",
    "        text_file = open(TXT_FILE_DIR + txt_file_name, \"r\", encoding=\"shift_jis\")\n",
    "        \n",
    "        get_data(text_file)\n",
    "        \n",
    "        text_file.close()\n",
    "        \n",
    "print(CSV_FILE_DIR + CSV_FILE_NAME + \"を作成しました。\")\n",
    "\n",
    "print(\"作業を終了しました。\")"
   ]
  },
  {
   "cell_type": "code",
   "execution_count": null,
   "metadata": {},
   "outputs": [],
   "source": []
  }
 ],
 "metadata": {
  "kernelspec": {
   "display_name": "Python 3.9.10 ('ds_env')",
   "language": "python",
   "name": "python3"
  },
  "language_info": {
   "codemirror_mode": {
    "name": "ipython",
    "version": 3
   },
   "file_extension": ".py",
   "mimetype": "text/x-python",
   "name": "python",
   "nbconvert_exporter": "python",
   "pygments_lexer": "ipython3",
   "version": "3.9.10"
  },
  "orig_nbformat": 4,
  "vscode": {
   "interpreter": {
    "hash": "7c7fef4cebc2c5803deca8f2f8f92ca98cc97926b5b55deadaca289991aea2f9"
   }
  }
 },
 "nbformat": 4,
 "nbformat_minor": 2
}
