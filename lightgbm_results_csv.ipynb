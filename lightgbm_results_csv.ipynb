{
 "cells": [
  {
   "cell_type": "code",
   "execution_count": 2,
   "metadata": {},
   "outputs": [
    {
     "name": "stderr",
     "output_type": "stream",
     "text": [
      "/Users/higuchirakuhi/miniforge3/envs/ds_env/lib/python3.9/site-packages/IPython/core/interactiveshell.py:3361: DtypeWarning: Columns (13) have mixed types.Specify dtype option on import or set low_memory=False.\n",
      "  exec(code_obj, self.user_global_ns, self.user_ns)\n"
     ]
    }
   ],
   "source": [
    "import pandas as pd\n",
    "df = pd.read_csv(\"/Users/higuchirakuhi/Boat_Race_git/BoatRace/lightgbm_csv/lightgbm.csv\",index_col=False)\n"
   ]
  },
  {
   "cell_type": "code",
   "execution_count": 52,
   "metadata": {},
   "outputs": [
    {
     "data": {
      "text/plain": [
       "Index(['race_code', 'date', 'race_date', 'place', 'round', 'order', 'position',\n",
       "       'number', 'name', 'motor', 'boat', 'display', 'in', 'st_time',\n",
       "       'race_time', 'type', 'weather', 'wind', 'wind_strong', 'wave'],\n",
       "      dtype='object')"
      ]
     },
     "execution_count": 52,
     "metadata": {},
     "output_type": "execute_result"
    }
   ],
   "source": [
    "df.columns"
   ]
  },
  {
   "cell_type": "markdown",
   "metadata": {},
   "source": []
  },
  {
   "cell_type": "code",
   "execution_count": 10,
   "metadata": {},
   "outputs": [
    {
     "name": "stdout",
     "output_type": "stream",
     "text": [
      "<class 'pandas.core.frame.DataFrame'>\n",
      "RangeIndex: 2073967 entries, 0 to 2073966\n",
      "Data columns (total 20 columns):\n",
      " #   Column       Dtype  \n",
      "---  ------       -----  \n",
      " 0   race_code    object \n",
      " 1   date         object \n",
      " 2   race_date    object \n",
      " 3   place        object \n",
      " 4   round        object \n",
      " 5   order        int64  \n",
      " 6   position     int64  \n",
      " 7   number       int64  \n",
      " 8   name         object \n",
      " 9   motor        int64  \n",
      " 10  boat         int64  \n",
      " 11  display      float64\n",
      " 12  in           int64  \n",
      " 13  st_time      object \n",
      " 14  race_time    object \n",
      " 15  type         object \n",
      " 16  weather      object \n",
      " 17  wind         object \n",
      " 18  wind_strong  int64  \n",
      " 19  wave         int64  \n",
      "dtypes: float64(1), int64(8), object(11)\n",
      "memory usage: 316.5+ MB\n"
     ]
    }
   ],
   "source": [
    "df.info()"
   ]
  },
  {
   "cell_type": "code",
   "execution_count": 3,
   "metadata": {},
   "outputs": [],
   "source": [
    "df_y = df['order']\n",
    "df_x = df.drop(['order'],axis = 1)"
   ]
  },
  {
   "cell_type": "code",
   "execution_count": null,
   "metadata": {},
   "outputs": [],
   "source": []
  }
 ],
 "metadata": {
  "kernelspec": {
   "display_name": "Python 3.9.10 ('ds_env')",
   "language": "python",
   "name": "python3"
  },
  "language_info": {
   "codemirror_mode": {
    "name": "ipython",
    "version": 3
   },
   "file_extension": ".py",
   "mimetype": "text/x-python",
   "name": "python",
   "nbconvert_exporter": "python",
   "pygments_lexer": "ipython3",
   "version": "3.9.10"
  },
  "orig_nbformat": 4,
  "vscode": {
   "interpreter": {
    "hash": "7c7fef4cebc2c5803deca8f2f8f92ca98cc97926b5b55deadaca289991aea2f9"
   }
  }
 },
 "nbformat": 4,
 "nbformat_minor": 2
}
